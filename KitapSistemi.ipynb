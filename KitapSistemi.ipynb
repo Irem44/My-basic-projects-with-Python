{
 "cells": [
  {
   "cell_type": "code",
   "execution_count": 1,
   "id": "3e943ebe",
   "metadata": {},
   "outputs": [],
   "source": [
    "class Kitap:\n",
    "    kitaplar=[]\n",
    "   \n",
    "    def __init__(self,baslik,yazar,sayfaSayisi,basimTarihi,yayinEvi):\n",
    "        self.baslik=baslik\n",
    "        self.yazar=yazar\n",
    "        self.sayfaSayisi=sayfaSayisi\n",
    "        self.basimTarihi=basimTarihi\n",
    "        self.yayinEvi=yayinEvi\n",
    "        \n",
    "    def bilgiGoster(self):\n",
    "        print(f\"Kitap adı: {self.baslik}\")\n",
    "        print(f\"Kitap yazarı: {self.yazar}\")\n",
    "        print(f\"Kitap Sayfa Sayısı: {self.sayfaSayisi}\")\n",
    "        print(f\"Kitap Basım Tarihi: {self.basimTarihi} \")\n",
    "        print(f\"Kitap Yayınevi: {self.yayinEvi}\")\n",
    "        \n",
    "    def kitapEKle(self):\n",
    "        self.kitaplar.append([self.baslik,self.yazar,self.sayfaSayisi,self.basimTarihi,self.yayinEvi])\n",
    "        print(f\"{self.baslik} adlı kitap eklendi\")\n",
    "    \n",
    "    def kitapListele(self):\n",
    "         return self.kitaplar\n",
    "    \n",
    "    def kitapSil(self,kitapAdi):\n",
    "        for i in self.kitaplar:\n",
    "                if i[0]==kitapAdi:\n",
    "                    self.kitaplar.remove(i)\n",
    "                    print(\"Kitap silindi\")\n",
    "    "
   ]
  },
  {
   "cell_type": "code",
   "execution_count": 2,
   "id": "a6272ad2",
   "metadata": {},
   "outputs": [],
   "source": [
    "kitap1=Kitap(\"Alice\",\"William\",300,2002,\"Papatya\")\n",
    "        \n",
    "        "
   ]
  },
  {
   "cell_type": "code",
   "execution_count": 3,
   "id": "4f5073b2",
   "metadata": {},
   "outputs": [
    {
     "name": "stdout",
     "output_type": "stream",
     "text": [
      "Alice adlı kitap eklendi\n"
     ]
    }
   ],
   "source": [
    "kitap1.kitapEKle()"
   ]
  },
  {
   "cell_type": "code",
   "execution_count": 4,
   "id": "eeccaf85",
   "metadata": {},
   "outputs": [],
   "source": [
    "kitap2=Kitap(\"Anna Karenina\",\"Tolstoy\",800,1877,\"Oxford\")"
   ]
  },
  {
   "cell_type": "code",
   "execution_count": 5,
   "id": "ac0ade9f",
   "metadata": {},
   "outputs": [
    {
     "name": "stdout",
     "output_type": "stream",
     "text": [
      "Anna Karenina adlı kitap eklendi\n"
     ]
    }
   ],
   "source": [
    "kitap2.kitapEKle()"
   ]
  },
  {
   "cell_type": "code",
   "execution_count": 6,
   "id": "5223c1bf",
   "metadata": {},
   "outputs": [
    {
     "data": {
      "text/plain": [
       "[['Alice', 'William', 300, 2002, 'Papatya'],\n",
       " ['Anna Karenina', 'Tolstoy', 800, 1877, 'Oxford']]"
      ]
     },
     "execution_count": 6,
     "metadata": {},
     "output_type": "execute_result"
    }
   ],
   "source": [
    "kitap2.kitapListele()"
   ]
  },
  {
   "cell_type": "code",
   "execution_count": 7,
   "id": "220e4475",
   "metadata": {},
   "outputs": [
    {
     "name": "stdout",
     "output_type": "stream",
     "text": [
      "Kitap silindi\n"
     ]
    }
   ],
   "source": [
    "kitap2.kitapSil(\"Alice\")"
   ]
  },
  {
   "cell_type": "code",
   "execution_count": 8,
   "id": "1177d352",
   "metadata": {},
   "outputs": [
    {
     "data": {
      "text/plain": [
       "[['Anna Karenina', 'Tolstoy', 800, 1877, 'Oxford']]"
      ]
     },
     "execution_count": 8,
     "metadata": {},
     "output_type": "execute_result"
    }
   ],
   "source": [
    "kitap2.kitapListele()"
   ]
  },
  {
   "cell_type": "code",
   "execution_count": 9,
   "id": "7bbf8cb5",
   "metadata": {},
   "outputs": [],
   "source": [
    "kitap2.kitapSil(\"Alice\")"
   ]
  },
  {
   "cell_type": "code",
   "execution_count": 10,
   "id": "0e439a15",
   "metadata": {},
   "outputs": [
    {
     "data": {
      "text/plain": [
       "[['Anna Karenina', 'Tolstoy', 800, 1877, 'Oxford']]"
      ]
     },
     "execution_count": 10,
     "metadata": {},
     "output_type": "execute_result"
    }
   ],
   "source": [
    "kitap1.kitapListele()"
   ]
  },
  {
   "cell_type": "code",
   "execution_count": null,
   "id": "dd209fd8",
   "metadata": {},
   "outputs": [],
   "source": []
  },
  {
   "cell_type": "code",
   "execution_count": null,
   "id": "835d48ea",
   "metadata": {},
   "outputs": [],
   "source": []
  }
 ],
 "metadata": {
  "kernelspec": {
   "display_name": "Python 3 (ipykernel)",
   "language": "python",
   "name": "python3"
  },
  "language_info": {
   "codemirror_mode": {
    "name": "ipython",
    "version": 3
   },
   "file_extension": ".py",
   "mimetype": "text/x-python",
   "name": "python",
   "nbconvert_exporter": "python",
   "pygments_lexer": "ipython3",
   "version": "3.11.5"
  }
 },
 "nbformat": 4,
 "nbformat_minor": 5
}
