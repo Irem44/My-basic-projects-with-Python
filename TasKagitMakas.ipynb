{
 "cells": [
  {
   "cell_type": "code",
   "execution_count": 2,
   "id": "94222946",
   "metadata": {},
   "outputs": [
    {
     "name": "stdout",
     "output_type": "stream",
     "text": [
      "Lütfen biriini seçiniz  \n",
      " 1-Taş \n",
      " 2-Makas \n",
      " 3-Kağıt \n",
      " 4-end \n",
      "4\n",
      "Çıkış yapılıyor....\n"
     ]
    }
   ],
   "source": [
    "from random import randint\n",
    "while True:\n",
    "    secim=int(input(\"Lütfen biriini seçiniz  \\n 1-Taş \\n 2-Makas \\n 3-Kağıt \\n 4-end \\n\" ))\n",
    "    uretilensecim=randint(1,4)\n",
    "    if secim==1 and uretilensecim==1:\n",
    "        print(\"Kazanan yok aynı tercih yapıldı\")\n",
    "    if secim==1 and uretilensecim==2:\n",
    "        print(\" Sen kazandın Taş makası kırar.\")\n",
    "    if secim==1 and uretilensecim==3:\n",
    "        print(\"Makina kazandı kağıt makası sarar.\")\n",
    "    if secim==2 and uretilensecim==1:\n",
    "        print(\"Makina kazandı Tas makası yener .\")\n",
    "    if secim==2 and uretilensecim==2:\n",
    "        print(\"Kazanan yok aynı tercih yapıldı\")\n",
    "    if secim==2 and uretilensecim==3:\n",
    "        print(\"Sen kazandın makas kağıtı keser.\")\n",
    "    if secim==3 and uretilensecim==1:\n",
    "        print(\"Sen kazandın kağıt taşı sarar.\")\n",
    "    if secim==3 and uretilensecim==2:\n",
    "        print(\"Makina kazandı makas kağıtı keser.\")\n",
    "    if secim==3 and uretilensecim==3:\n",
    "        print(\"Kazanan yok aynı tercih yapıldı\")\n",
    "    if secim==4:\n",
    "        print(\"Çıkış yapılıyor....\")\n",
    "        break\n",
    "        \n"
   ]
  },
  {
   "cell_type": "code",
   "execution_count": null,
   "id": "b4e59f31",
   "metadata": {},
   "outputs": [],
   "source": []
  },
  {
   "cell_type": "code",
   "execution_count": null,
   "id": "29e6d363",
   "metadata": {},
   "outputs": [],
   "source": []
  }
 ],
 "metadata": {
  "kernelspec": {
   "display_name": "Python 3 (ipykernel)",
   "language": "python",
   "name": "python3"
  },
  "language_info": {
   "codemirror_mode": {
    "name": "ipython",
    "version": 3
   },
   "file_extension": ".py",
   "mimetype": "text/x-python",
   "name": "python",
   "nbconvert_exporter": "python",
   "pygments_lexer": "ipython3",
   "version": "3.11.5"
  }
 },
 "nbformat": 4,
 "nbformat_minor": 5
}
