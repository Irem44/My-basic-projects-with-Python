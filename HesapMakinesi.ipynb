{
 "cells": [
  {
   "cell_type": "code",
   "execution_count": 5,
   "id": "73def9e2",
   "metadata": {},
   "outputs": [
    {
     "name": "stdout",
     "output_type": "stream",
     "text": [
      "Lütfen yapmak istediğiniz işlemi seçiniz: +,*,-,/,end\n",
      "Lütfen ilk sayıyı giriniz: 12\n",
      "Lütfen ikinci sayıyı giriniz: 2\n",
      "yanlış işlem yaptınız! \n",
      "Lütfen yapmak istediğiniz işlemi seçiniz: +,*,-,/,end*\n",
      "Lütfen ilk sayıyı giriniz: 12\n",
      "Lütfen ikinci sayıyı giriniz: 8\n",
      "12 ve 8 çarpımı : 96\n",
      "Lütfen yapmak istediğiniz işlemi seçiniz: +,*,-,/,endend\n",
      "Çıkış yapılıyor......\n"
     ]
    }
   ],
   "source": [
    "while True:\n",
    "    try:\n",
    "        \n",
    "        islem=input(\"Lütfen yapmak istediğiniz işlemi seçiniz: +,*,-,/,end\")\n",
    "        tercihliste=[\"+\",\"*\",\"-\",\"/\",\"end\"]\n",
    "        if(islem==\"end\"):\n",
    "            print(\"Çıkış yapılıyor......\")\n",
    "            break;\n",
    "        ilksayi=int(input(\"Lütfen ilk sayıyı giriniz: \"))\n",
    "        ikincisayi=int(input(\"Lütfen ikinci sayıyı giriniz: \"))\n",
    "        \n",
    "        if(islem not in tercihliste):\n",
    "            print(\"yanlış işlem yaptınız! \")\n",
    "        if(islem==\"+\"):\n",
    "            sonuc=ilksayi+ikincisayi\n",
    "            print(f\"{ilksayi} ve {ikincisayi} toplamı : {sonuc}\")\n",
    "        if(islem==\"*\"):\n",
    "            sonuc1=ilksayi*ikincisayi\n",
    "            print(f\"{ilksayi} ve {ikincisayi} çarpımı : {sonuc1}\")\n",
    "\n",
    "        if(islem==\"-\"):\n",
    "            sonuc2=ilksayi-ikincisayi\n",
    "            print(f\"{ilksayi} ve {ikincisayi} çıkarma sonucu : {sonuc2}\")\n",
    "            \n",
    "        if(islem==\"/\"):\n",
    "            sonuc3=ilksayi/ikincisayi\n",
    "            print(f\"{ilksayi} ve {ikincisayi} bölme sonucu :{sonuc3}\")\n",
    "       \n",
    "    except:\n",
    "        print(\"Hatalı işlem yaptınız...\")\n",
    "   "
   ]
  },
  {
   "cell_type": "code",
   "execution_count": null,
   "id": "2e5c333c",
   "metadata": {},
   "outputs": [],
   "source": []
  },
  {
   "cell_type": "code",
   "execution_count": null,
   "id": "cf2cb321",
   "metadata": {},
   "outputs": [],
   "source": []
  }
 ],
 "metadata": {
  "kernelspec": {
   "display_name": "Python 3 (ipykernel)",
   "language": "python",
   "name": "python3"
  },
  "language_info": {
   "codemirror_mode": {
    "name": "ipython",
    "version": 3
   },
   "file_extension": ".py",
   "mimetype": "text/x-python",
   "name": "python",
   "nbconvert_exporter": "python",
   "pygments_lexer": "ipython3",
   "version": "3.11.5"
  }
 },
 "nbformat": 4,
 "nbformat_minor": 5
}
